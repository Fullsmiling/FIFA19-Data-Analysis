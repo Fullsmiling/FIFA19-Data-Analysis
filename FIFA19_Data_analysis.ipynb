{
 "cells": [
  {
   "cell_type": "markdown",
   "metadata": {},
   "source": [
    "# FIFA19 축구선수 데이터"
   ]
  },
  {
   "cell_type": "markdown",
   "metadata": {},
   "source": [
    "### KQ\n",
    "\"왼손잡이가 공부를 잘한다는 속설처럼 왼발잡이는 축구를 잘할까?\""
   ]
  },
  {
   "cell_type": "markdown",
   "metadata": {},
   "source": [
    "- 문제 정의: 왼발잡이 선수가 오른발잡이 선수보다 축그를 잘하는지 확인해보고 싶다.\n",
    "- 검증 방식: 구단 가치 상위 10개 팀에서 왼발잡이와 오른발잡이 급여의 차이 확인."
   ]
  },
  {
   "cell_type": "markdown",
   "metadata": {},
   "source": [
    "#### 활용 데이터\n",
    "\n",
    " 칼럼명 | 의미 | 예시\n",
    "- | - | -\n",
    "Name | 이름 | L.Messi\n",
    "Age | 나이 | 31\n",
    "Nationality | 국적 | Argentina\n",
    "Overall | 현재 선수의 종합 능력치 | 94\n",
    "Potential | 선수의 잠재적 능력치 | 94\n",
    "Club | 소속 구단 | FC Barcelona\n",
    "Value | 선수 가치 (단위 : €유로) | 110000000\n",
    "Wage | 급여 (단위 : €유로) | 565000\n",
    "Preferred Foot | 선호하는 발 | Left\n",
    "Position | 포지션 | RF\n",
    "\n",
    "*출처 : https://www.kaggle.com/karangadiya/fifa19*"
   ]
  },
  {
   "cell_type": "code",
   "execution_count": 1,
   "metadata": {},
   "outputs": [],
   "source": [
    "import pandas as pd\n",
    "import numpy as np\n",
    "import matplotlib.pyplot as plt\n",
    "from matplotlib import font_manager, rc\n",
    "import sys\n",
    "import platform\n",
    "import warnings\n",
    "\n",
    "warnings.filterwarnings(action='ignore')\n",
    "\n",
    "pd.set_option('display.max_rows', 500)\n",
    "pd.set_option('display.max_columns', 500)\n",
    "pd.set_option('display.width', 1000)"
   ]
  },
  {
   "cell_type": "markdown",
   "metadata": {},
   "source": [
    "#### FIFA 데이터 확인"
   ]
  },
  {
   "cell_type": "code",
   "execution_count": 2,
   "metadata": {},
   "outputs": [],
   "source": [
    "# fifa_data 열기\n",
    "fifa_data = pd.read_csv('./data/fifa_data.csv')"
   ]
  },
  {
   "cell_type": "code",
   "execution_count": 3,
   "metadata": {},
   "outputs": [
    {
     "name": "stdout",
     "output_type": "stream",
     "text": [
      "<class 'pandas.core.frame.DataFrame'>\n",
      "RangeIndex: 18207 entries, 0 to 18206\n",
      "Data columns (total 12 columns):\n",
      " #   Column          Non-Null Count  Dtype  \n",
      "---  ------          --------------  -----  \n",
      " 0   Name            18207 non-null  object \n",
      " 1   Age             18207 non-null  int64  \n",
      " 2   Nationality     18207 non-null  object \n",
      " 3   Overall         18207 non-null  int64  \n",
      " 4   Potential       18207 non-null  int64  \n",
      " 5   Club            17966 non-null  object \n",
      " 6   Value           18207 non-null  int64  \n",
      " 7   Wage            18207 non-null  int64  \n",
      " 8   Preferred Foot  18159 non-null  object \n",
      " 9   Position        18147 non-null  object \n",
      " 10  Height          18159 non-null  float64\n",
      " 11  Weight          18159 non-null  float64\n",
      "dtypes: float64(2), int64(5), object(5)\n",
      "memory usage: 1.7+ MB\n"
     ]
    },
    {
     "data": {
      "text/html": [
       "<div>\n",
       "<style scoped>\n",
       "    .dataframe tbody tr th:only-of-type {\n",
       "        vertical-align: middle;\n",
       "    }\n",
       "\n",
       "    .dataframe tbody tr th {\n",
       "        vertical-align: top;\n",
       "    }\n",
       "\n",
       "    .dataframe thead th {\n",
       "        text-align: right;\n",
       "    }\n",
       "</style>\n",
       "<table border=\"1\" class=\"dataframe\">\n",
       "  <thead>\n",
       "    <tr style=\"text-align: right;\">\n",
       "      <th></th>\n",
       "      <th>Name</th>\n",
       "      <th>Age</th>\n",
       "      <th>Nationality</th>\n",
       "      <th>Overall</th>\n",
       "      <th>Potential</th>\n",
       "      <th>Club</th>\n",
       "      <th>Value</th>\n",
       "      <th>Wage</th>\n",
       "      <th>Preferred Foot</th>\n",
       "      <th>Position</th>\n",
       "      <th>Height</th>\n",
       "      <th>Weight</th>\n",
       "    </tr>\n",
       "  </thead>\n",
       "  <tbody>\n",
       "    <tr>\n",
       "      <th>0</th>\n",
       "      <td>L. Messi</td>\n",
       "      <td>31</td>\n",
       "      <td>Argentina</td>\n",
       "      <td>94</td>\n",
       "      <td>94</td>\n",
       "      <td>FC Barcelona</td>\n",
       "      <td>110000000</td>\n",
       "      <td>565000</td>\n",
       "      <td>Left</td>\n",
       "      <td>RF</td>\n",
       "      <td>5.70</td>\n",
       "      <td>159.0</td>\n",
       "    </tr>\n",
       "    <tr>\n",
       "      <th>1</th>\n",
       "      <td>Cristiano Ronaldo</td>\n",
       "      <td>33</td>\n",
       "      <td>Portugal</td>\n",
       "      <td>94</td>\n",
       "      <td>94</td>\n",
       "      <td>Juventus</td>\n",
       "      <td>77000000</td>\n",
       "      <td>405000</td>\n",
       "      <td>Right</td>\n",
       "      <td>ST</td>\n",
       "      <td>6.20</td>\n",
       "      <td>183.0</td>\n",
       "    </tr>\n",
       "    <tr>\n",
       "      <th>2</th>\n",
       "      <td>Neymar Jr</td>\n",
       "      <td>26</td>\n",
       "      <td>Brazil</td>\n",
       "      <td>92</td>\n",
       "      <td>93</td>\n",
       "      <td>Paris Saint-Germain</td>\n",
       "      <td>118000000</td>\n",
       "      <td>290000</td>\n",
       "      <td>Right</td>\n",
       "      <td>LW</td>\n",
       "      <td>5.90</td>\n",
       "      <td>150.0</td>\n",
       "    </tr>\n",
       "    <tr>\n",
       "      <th>3</th>\n",
       "      <td>De Gea</td>\n",
       "      <td>27</td>\n",
       "      <td>Spain</td>\n",
       "      <td>91</td>\n",
       "      <td>93</td>\n",
       "      <td>Manchester United</td>\n",
       "      <td>72000000</td>\n",
       "      <td>260000</td>\n",
       "      <td>Right</td>\n",
       "      <td>GK</td>\n",
       "      <td>6.40</td>\n",
       "      <td>168.0</td>\n",
       "    </tr>\n",
       "    <tr>\n",
       "      <th>4</th>\n",
       "      <td>K. De Bruyne</td>\n",
       "      <td>27</td>\n",
       "      <td>Belgium</td>\n",
       "      <td>91</td>\n",
       "      <td>92</td>\n",
       "      <td>Manchester City</td>\n",
       "      <td>102000000</td>\n",
       "      <td>355000</td>\n",
       "      <td>Right</td>\n",
       "      <td>RCM</td>\n",
       "      <td>5.11</td>\n",
       "      <td>154.0</td>\n",
       "    </tr>\n",
       "  </tbody>\n",
       "</table>\n",
       "</div>"
      ],
      "text/plain": [
       "                Name  Age Nationality  Overall  Potential                 Club      Value    Wage Preferred Foot Position  Height  Weight\n",
       "0           L. Messi   31   Argentina       94         94         FC Barcelona  110000000  565000           Left       RF    5.70   159.0\n",
       "1  Cristiano Ronaldo   33    Portugal       94         94             Juventus   77000000  405000          Right       ST    6.20   183.0\n",
       "2          Neymar Jr   26      Brazil       92         93  Paris Saint-Germain  118000000  290000          Right       LW    5.90   150.0\n",
       "3             De Gea   27       Spain       91         93    Manchester United   72000000  260000          Right       GK    6.40   168.0\n",
       "4       K. De Bruyne   27     Belgium       91         92      Manchester City  102000000  355000          Right      RCM    5.11   154.0"
      ]
     },
     "execution_count": 3,
     "metadata": {},
     "output_type": "execute_result"
    }
   ],
   "source": [
    "# fifa19 데이터구조 확인\n",
    "fifa_data.shape\n",
    "fifa_data.info()\n",
    "fifa_data.head()"
   ]
  },
  {
   "cell_type": "code",
   "execution_count": 4,
   "metadata": {},
   "outputs": [
    {
     "data": {
      "text/html": [
       "<div>\n",
       "<style scoped>\n",
       "    .dataframe tbody tr th:only-of-type {\n",
       "        vertical-align: middle;\n",
       "    }\n",
       "\n",
       "    .dataframe tbody tr th {\n",
       "        vertical-align: top;\n",
       "    }\n",
       "\n",
       "    .dataframe thead th {\n",
       "        text-align: right;\n",
       "    }\n",
       "</style>\n",
       "<table border=\"1\" class=\"dataframe\">\n",
       "  <thead>\n",
       "    <tr style=\"text-align: right;\">\n",
       "      <th></th>\n",
       "      <th>Club</th>\n",
       "      <th>Preferred Foot</th>\n",
       "      <th>Wage</th>\n",
       "      <th>Value</th>\n",
       "    </tr>\n",
       "  </thead>\n",
       "  <tbody>\n",
       "    <tr>\n",
       "      <th>0</th>\n",
       "      <td>FC Barcelona</td>\n",
       "      <td>Left</td>\n",
       "      <td>565000</td>\n",
       "      <td>110000000</td>\n",
       "    </tr>\n",
       "    <tr>\n",
       "      <th>1</th>\n",
       "      <td>Juventus</td>\n",
       "      <td>Right</td>\n",
       "      <td>405000</td>\n",
       "      <td>77000000</td>\n",
       "    </tr>\n",
       "    <tr>\n",
       "      <th>2</th>\n",
       "      <td>Paris Saint-Germain</td>\n",
       "      <td>Right</td>\n",
       "      <td>290000</td>\n",
       "      <td>118000000</td>\n",
       "    </tr>\n",
       "  </tbody>\n",
       "</table>\n",
       "</div>"
      ],
      "text/plain": [
       "                  Club Preferred Foot    Wage      Value\n",
       "0         FC Barcelona           Left  565000  110000000\n",
       "1             Juventus          Right  405000   77000000\n",
       "2  Paris Saint-Germain          Right  290000  118000000"
      ]
     },
     "execution_count": 4,
     "metadata": {},
     "output_type": "execute_result"
    }
   ],
   "source": [
    "# 활용하고자 하는 컬럼 선별\n",
    "fifa_data_select = fifa_data[['Club','Preferred Foot','Wage','Value']]\n",
    "fifa_data_select.head(3)"
   ]
  },
  {
   "cell_type": "code",
   "execution_count": 5,
   "metadata": {},
   "outputs": [
    {
     "data": {
      "text/html": [
       "<div>\n",
       "<style scoped>\n",
       "    .dataframe tbody tr th:only-of-type {\n",
       "        vertical-align: middle;\n",
       "    }\n",
       "\n",
       "    .dataframe tbody tr th {\n",
       "        vertical-align: top;\n",
       "    }\n",
       "\n",
       "    .dataframe thead th {\n",
       "        text-align: right;\n",
       "    }\n",
       "</style>\n",
       "<table border=\"1\" class=\"dataframe\">\n",
       "  <thead>\n",
       "    <tr style=\"text-align: right;\">\n",
       "      <th></th>\n",
       "      <th>Value</th>\n",
       "    </tr>\n",
       "    <tr>\n",
       "      <th>Club</th>\n",
       "      <th></th>\n",
       "    </tr>\n",
       "  </thead>\n",
       "  <tbody>\n",
       "    <tr>\n",
       "      <th>Real Madrid</th>\n",
       "      <td>867425000</td>\n",
       "    </tr>\n",
       "    <tr>\n",
       "      <th>FC Barcelona</th>\n",
       "      <td>844800000</td>\n",
       "    </tr>\n",
       "    <tr>\n",
       "      <th>Manchester City</th>\n",
       "      <td>779855000</td>\n",
       "    </tr>\n",
       "    <tr>\n",
       "      <th>Juventus</th>\n",
       "      <td>698575000</td>\n",
       "    </tr>\n",
       "    <tr>\n",
       "      <th>FC Bayern München</th>\n",
       "      <td>675225000</td>\n",
       "    </tr>\n",
       "    <tr>\n",
       "      <th>Atlético Madrid</th>\n",
       "      <td>638925000</td>\n",
       "    </tr>\n",
       "    <tr>\n",
       "      <th>Paris Saint-Germain</th>\n",
       "      <td>618325000</td>\n",
       "    </tr>\n",
       "    <tr>\n",
       "      <th>Tottenham Hotspur</th>\n",
       "      <td>610750000</td>\n",
       "    </tr>\n",
       "    <tr>\n",
       "      <th>Chelsea</th>\n",
       "      <td>601015000</td>\n",
       "    </tr>\n",
       "    <tr>\n",
       "      <th>Manchester United</th>\n",
       "      <td>581250000</td>\n",
       "    </tr>\n",
       "  </tbody>\n",
       "</table>\n",
       "</div>"
      ],
      "text/plain": [
       "                         Value\n",
       "Club                          \n",
       "Real Madrid          867425000\n",
       "FC Barcelona         844800000\n",
       "Manchester City      779855000\n",
       "Juventus             698575000\n",
       "FC Bayern München    675225000\n",
       "Atlético Madrid      638925000\n",
       "Paris Saint-Germain  618325000\n",
       "Tottenham Hotspur    610750000\n",
       "Chelsea              601015000\n",
       "Manchester United    581250000"
      ]
     },
     "execution_count": 5,
     "metadata": {},
     "output_type": "execute_result"
    }
   ],
   "source": [
    "# '구단가치 = 구단 내 선수들의 가치 합' 이라 가정\n",
    "groupby_club = fifa_data_select.groupby(\"Club\")[['Value']].sum()\n",
    "# 구단가치 기준 내림차순 정렬 후 Top10구단 선별\n",
    "groupby_club = groupby_club.sort_values('Value', ascending = False)\n",
    "groupby_club = groupby_club.head(10)\n",
    "groupby_club"
   ]
  },
  {
   "cell_type": "code",
   "execution_count": 6,
   "metadata": {},
   "outputs": [
    {
     "data": {
      "text/plain": [
       "['Real Madrid',\n",
       " 'FC Barcelona',\n",
       " 'Manchester City',\n",
       " 'Juventus',\n",
       " 'FC Bayern München',\n",
       " 'Atlético Madrid',\n",
       " 'Paris Saint-Germain',\n",
       " 'Tottenham Hotspur',\n",
       " 'Chelsea',\n",
       " 'Manchester United']"
      ]
     },
     "execution_count": 6,
     "metadata": {},
     "output_type": "execute_result"
    }
   ],
   "source": [
    "# Top10구단 이름\n",
    "list(groupby_club.index)"
   ]
  },
  {
   "cell_type": "code",
   "execution_count": 7,
   "metadata": {},
   "outputs": [],
   "source": [
    "# Top10 구단의 선수정보 추출\n",
    "is_top10_club = fifa_data_select['Club'].isin(groupby_club.index)\n",
    "fifa_data_top10_club = fifa_data_select[is_top10_club]"
   ]
  },
  {
   "cell_type": "code",
   "execution_count": 8,
   "metadata": {},
   "outputs": [
    {
     "data": {
      "text/html": [
       "<div>\n",
       "<style scoped>\n",
       "    .dataframe tbody tr th:only-of-type {\n",
       "        vertical-align: middle;\n",
       "    }\n",
       "\n",
       "    .dataframe tbody tr th {\n",
       "        vertical-align: top;\n",
       "    }\n",
       "\n",
       "    .dataframe thead th {\n",
       "        text-align: right;\n",
       "    }\n",
       "</style>\n",
       "<table border=\"1\" class=\"dataframe\">\n",
       "  <thead>\n",
       "    <tr style=\"text-align: right;\">\n",
       "      <th></th>\n",
       "      <th>Preferred Foot</th>\n",
       "      <th>Wage</th>\n",
       "    </tr>\n",
       "  </thead>\n",
       "  <tbody>\n",
       "    <tr>\n",
       "      <th>0</th>\n",
       "      <td>Left</td>\n",
       "      <td>108717.647059</td>\n",
       "    </tr>\n",
       "    <tr>\n",
       "      <th>1</th>\n",
       "      <td>Right</td>\n",
       "      <td>99517.391304</td>\n",
       "    </tr>\n",
       "  </tbody>\n",
       "</table>\n",
       "</div>"
      ],
      "text/plain": [
       "  Preferred Foot           Wage\n",
       "0           Left  108717.647059\n",
       "1          Right   99517.391304"
      ]
     },
     "execution_count": 8,
     "metadata": {},
     "output_type": "execute_result"
    }
   ],
   "source": [
    "df = fifa_data_top10_club.groupby('Preferred Foot').mean()['Wage'].reset_index()\n",
    "df"
   ]
  },
  {
   "cell_type": "code",
   "execution_count": 9,
   "metadata": {},
   "outputs": [
    {
     "name": "stdout",
     "output_type": "stream",
     "text": [
      "Darwin\n"
     ]
    }
   ],
   "source": [
    "# plt에서 한글 폰트설정\n",
    "# 플랫폼 확인\n",
    "print(platform.system()) \n",
    "# 윈도우\n",
    "if platform.system() == 'Windows':\n",
    "   rc('font', family='NanumBarunGothic')\n",
    "# 맥\n",
    "elif platform.system() == 'Darwin': \n",
    "   rc('font', family='AppleGothic')\n",
    "# 리눅스\n",
    "elif platform.system() == 'Linux':\n",
    "   rc('font', family='NanumBarunGothic')"
   ]
  },
  {
   "cell_type": "code",
   "execution_count": 10,
   "metadata": {},
   "outputs": [
    {
     "data": {
      "image/png": "[encoded data removed]",
      "text/plain": [
       "<Figure size 720x504 with 1 Axes>"
      ]
     },
     "metadata": {
      "needs_background": "light"
     },
     "output_type": "display_data"
    }
   ],
   "source": [
    "# 상위 10개 구단 내 왼발잡이 선수와 오른발 잡이 선수의 평균급여 시각화\n",
    "\n",
    "fig, axes = plt.subplots(figsize = (10, 7))\n",
    "axes.barh(df['Preferred Foot'],df['Wage'], height = 0.7)\n",
    "axes.set_title('구단가치 상위 10개 구단의 왼발잡이와 오른발잡이의 급여 비교', size=18)\n",
    "axes.set_xlabel('선수 급여', size=10)\n",
    "axes.set_ylabel('선호하는 발', size=10)\n",
    "plt.margins(y=0.3)"
   ]
  },
  {
   "cell_type": "markdown",
   "metadata": {},
   "source": [
    "## 데이터 분석 결과를 통해 도출한 결론"
   ]
  },
  {
   "cell_type": "markdown",
   "metadata": {},
   "source": [
    "#### 데이터 분석 결과\n",
    " 1. 왼발잡이의 평균 급여는 108717.65(유로) (소수점 3번째 자리에서 반올림)\n",
    " 2. 오른발잡이의 평균 급여는 99517.39(유로) (소수점 3번째 자리에서 반올림)\n",
    " 3. 왼발잡이 선수가 오른발잡이 선수에 비해 급여가 소폭 높음을 확인"
   ]
  },
  {
   "cell_type": "markdown",
   "metadata": {},
   "source": [
    "#### 결론\n",
    "\n",
    "1. 분석 결과 왼발잡이 선수가 오른발잡이 선수에 비해 급여가 소폭 높은 것을 확인했으나 위 결과만을 보고 왼발잡이 선수가 축구를 더 잘한다고 단정 짓는다면 위험할 것 같다.\n",
    "\n",
    "2. 축구선수에 대한 기본 지식이 부족한 상황에서 검증 방식을 결정하고 결과를 도출해냈기 때문에 분석에 대한 결론에 신뢰도가 떨어지는 것을 느낀다.\n",
    "\n",
    "3. 제대로 된 문제 해결을 위해서는 분석하고자 하는 분야에 대한 도메인 지식을 충분히 쌓아 탄탄한 논리를 기반으로 데이터 분석을 진행해야 할 것 같다."
   ]
  },
  {
   "cell_type": "markdown",
   "metadata": {},
   "source": [
    "---"
   ]
  },
  {
   "cell_type": "markdown",
   "metadata": {},
   "source": [
    "## 번외 분석"
   ]
  },
  {
   "cell_type": "markdown",
   "metadata": {},
   "source": [
    "#### Top10 선수의 구단가치 순위 시각화로 알아보기"
   ]
  },
  {
   "cell_type": "code",
   "execution_count": 11,
   "metadata": {},
   "outputs": [
    {
     "data": {
      "text/html": [
       "<div>\n",
       "<style scoped>\n",
       "    .dataframe tbody tr th:only-of-type {\n",
       "        vertical-align: middle;\n",
       "    }\n",
       "\n",
       "    .dataframe tbody tr th {\n",
       "        vertical-align: top;\n",
       "    }\n",
       "\n",
       "    .dataframe thead th {\n",
       "        text-align: right;\n",
       "    }\n",
       "</style>\n",
       "<table border=\"1\" class=\"dataframe\">\n",
       "  <thead>\n",
       "    <tr style=\"text-align: right;\">\n",
       "      <th></th>\n",
       "      <th>Name</th>\n",
       "      <th>Age</th>\n",
       "      <th>Nationality</th>\n",
       "      <th>Overall</th>\n",
       "      <th>Potential</th>\n",
       "      <th>Club</th>\n",
       "      <th>Value</th>\n",
       "      <th>Wage</th>\n",
       "      <th>Preferred Foot</th>\n",
       "      <th>Position</th>\n",
       "      <th>Height</th>\n",
       "      <th>Weight</th>\n",
       "    </tr>\n",
       "  </thead>\n",
       "  <tbody>\n",
       "    <tr>\n",
       "      <th>0</th>\n",
       "      <td>L. Messi</td>\n",
       "      <td>31</td>\n",
       "      <td>Argentina</td>\n",
       "      <td>94</td>\n",
       "      <td>94</td>\n",
       "      <td>FC Barcelona</td>\n",
       "      <td>110000000</td>\n",
       "      <td>565000</td>\n",
       "      <td>Left</td>\n",
       "      <td>RF</td>\n",
       "      <td>5.70</td>\n",
       "      <td>159.0</td>\n",
       "    </tr>\n",
       "    <tr>\n",
       "      <th>1</th>\n",
       "      <td>Cristiano Ronaldo</td>\n",
       "      <td>33</td>\n",
       "      <td>Portugal</td>\n",
       "      <td>94</td>\n",
       "      <td>94</td>\n",
       "      <td>Juventus</td>\n",
       "      <td>77000000</td>\n",
       "      <td>405000</td>\n",
       "      <td>Right</td>\n",
       "      <td>ST</td>\n",
       "      <td>6.20</td>\n",
       "      <td>183.0</td>\n",
       "    </tr>\n",
       "    <tr>\n",
       "      <th>2</th>\n",
       "      <td>Neymar Jr</td>\n",
       "      <td>26</td>\n",
       "      <td>Brazil</td>\n",
       "      <td>92</td>\n",
       "      <td>93</td>\n",
       "      <td>Paris Saint-Germain</td>\n",
       "      <td>118000000</td>\n",
       "      <td>290000</td>\n",
       "      <td>Right</td>\n",
       "      <td>LW</td>\n",
       "      <td>5.90</td>\n",
       "      <td>150.0</td>\n",
       "    </tr>\n",
       "    <tr>\n",
       "      <th>3</th>\n",
       "      <td>De Gea</td>\n",
       "      <td>27</td>\n",
       "      <td>Spain</td>\n",
       "      <td>91</td>\n",
       "      <td>93</td>\n",
       "      <td>Manchester United</td>\n",
       "      <td>72000000</td>\n",
       "      <td>260000</td>\n",
       "      <td>Right</td>\n",
       "      <td>GK</td>\n",
       "      <td>6.40</td>\n",
       "      <td>168.0</td>\n",
       "    </tr>\n",
       "    <tr>\n",
       "      <th>4</th>\n",
       "      <td>K. De Bruyne</td>\n",
       "      <td>27</td>\n",
       "      <td>Belgium</td>\n",
       "      <td>91</td>\n",
       "      <td>92</td>\n",
       "      <td>Manchester City</td>\n",
       "      <td>102000000</td>\n",
       "      <td>355000</td>\n",
       "      <td>Right</td>\n",
       "      <td>RCM</td>\n",
       "      <td>5.11</td>\n",
       "      <td>154.0</td>\n",
       "    </tr>\n",
       "    <tr>\n",
       "      <th>...</th>\n",
       "      <td>...</td>\n",
       "      <td>...</td>\n",
       "      <td>...</td>\n",
       "      <td>...</td>\n",
       "      <td>...</td>\n",
       "      <td>...</td>\n",
       "      <td>...</td>\n",
       "      <td>...</td>\n",
       "      <td>...</td>\n",
       "      <td>...</td>\n",
       "      <td>...</td>\n",
       "      <td>...</td>\n",
       "    </tr>\n",
       "    <tr>\n",
       "      <th>18202</th>\n",
       "      <td>J. Lundstram</td>\n",
       "      <td>19</td>\n",
       "      <td>England</td>\n",
       "      <td>47</td>\n",
       "      <td>65</td>\n",
       "      <td>Crewe Alexandra</td>\n",
       "      <td>60000</td>\n",
       "      <td>1000</td>\n",
       "      <td>Right</td>\n",
       "      <td>CM</td>\n",
       "      <td>5.90</td>\n",
       "      <td>134.0</td>\n",
       "    </tr>\n",
       "    <tr>\n",
       "      <th>18203</th>\n",
       "      <td>N. Christoffersson</td>\n",
       "      <td>19</td>\n",
       "      <td>Sweden</td>\n",
       "      <td>47</td>\n",
       "      <td>63</td>\n",
       "      <td>Trelleborgs FF</td>\n",
       "      <td>60000</td>\n",
       "      <td>1000</td>\n",
       "      <td>Right</td>\n",
       "      <td>ST</td>\n",
       "      <td>6.30</td>\n",
       "      <td>170.0</td>\n",
       "    </tr>\n",
       "    <tr>\n",
       "      <th>18204</th>\n",
       "      <td>B. Worman</td>\n",
       "      <td>16</td>\n",
       "      <td>England</td>\n",
       "      <td>47</td>\n",
       "      <td>67</td>\n",
       "      <td>Cambridge United</td>\n",
       "      <td>60000</td>\n",
       "      <td>1000</td>\n",
       "      <td>Right</td>\n",
       "      <td>ST</td>\n",
       "      <td>5.80</td>\n",
       "      <td>148.0</td>\n",
       "    </tr>\n",
       "    <tr>\n",
       "      <th>18205</th>\n",
       "      <td>D. Walker-Rice</td>\n",
       "      <td>17</td>\n",
       "      <td>England</td>\n",
       "      <td>47</td>\n",
       "      <td>66</td>\n",
       "      <td>Tranmere Rovers</td>\n",
       "      <td>60000</td>\n",
       "      <td>1000</td>\n",
       "      <td>Right</td>\n",
       "      <td>RW</td>\n",
       "      <td>5.10</td>\n",
       "      <td>154.0</td>\n",
       "    </tr>\n",
       "    <tr>\n",
       "      <th>18206</th>\n",
       "      <td>G. Nugent</td>\n",
       "      <td>16</td>\n",
       "      <td>England</td>\n",
       "      <td>46</td>\n",
       "      <td>66</td>\n",
       "      <td>Tranmere Rovers</td>\n",
       "      <td>60000</td>\n",
       "      <td>1000</td>\n",
       "      <td>Right</td>\n",
       "      <td>CM</td>\n",
       "      <td>5.10</td>\n",
       "      <td>176.0</td>\n",
       "    </tr>\n",
       "  </tbody>\n",
       "</table>\n",
       "<p>18207 rows × 12 columns</p>\n",
       "</div>"
      ],
      "text/plain": [
       "                     Name  Age Nationality  Overall  Potential                 Club      Value    Wage Preferred Foot Position  Height  Weight\n",
       "0                L. Messi   31   Argentina       94         94         FC Barcelona  110000000  565000           Left       RF    5.70   159.0\n",
       "1       Cristiano Ronaldo   33    Portugal       94         94             Juventus   77000000  405000          Right       ST    6.20   183.0\n",
       "2               Neymar Jr   26      Brazil       92         93  Paris Saint-Germain  118000000  290000          Right       LW    5.90   150.0\n",
       "3                  De Gea   27       Spain       91         93    Manchester United   72000000  260000          Right       GK    6.40   168.0\n",
       "4            K. De Bruyne   27     Belgium       91         92      Manchester City  102000000  355000          Right      RCM    5.11   154.0\n",
       "...                   ...  ...         ...      ...        ...                  ...        ...     ...            ...      ...     ...     ...\n",
       "18202        J. Lundstram   19     England       47         65      Crewe Alexandra      60000    1000          Right       CM    5.90   134.0\n",
       "18203  N. Christoffersson   19      Sweden       47         63       Trelleborgs FF      60000    1000          Right       ST    6.30   170.0\n",
       "18204           B. Worman   16     England       47         67     Cambridge United      60000    1000          Right       ST    5.80   148.0\n",
       "18205      D. Walker-Rice   17     England       47         66      Tranmere Rovers      60000    1000          Right       RW    5.10   154.0\n",
       "18206           G. Nugent   16     England       46         66      Tranmere Rovers      60000    1000          Right       CM    5.10   176.0\n",
       "\n",
       "[18207 rows x 12 columns]"
      ]
     },
     "execution_count": 11,
     "metadata": {},
     "output_type": "execute_result"
    }
   ],
   "source": [
    "fifa_data"
   ]
  },
  {
   "cell_type": "code",
   "execution_count": 12,
   "metadata": {},
   "outputs": [
    {
     "name": "stdout",
     "output_type": "stream",
     "text": [
      "['Neymar Jr' 'L. Messi' 'K. De Bruyne' 'E. Hazard' 'P. Dybala' 'H. Kane'\n",
      " 'K. Mbappé' 'L. Suárez' 'A. Griezmann' 'R. Lewandowski']\n"
     ]
    }
   ],
   "source": [
    "Top10 = fifa_data.sort_values('Value', ascending=False).head(10)\n",
    "Top10_Name = Top10[\"Name\"].unique()\n",
    "print(Top10_Name)"
   ]
  },
  {
   "cell_type": "code",
   "execution_count": 13,
   "metadata": {},
   "outputs": [],
   "source": [
    "groupby_club = fifa_data.groupby('Club').mean()['Value'].sort_values(ascending=False)"
   ]
  },
  {
   "cell_type": "code",
   "execution_count": 14,
   "metadata": {
    "scrolled": false
   },
   "outputs": [
    {
     "name": "stdout",
     "output_type": "stream",
     "text": [
      "구단가치 순위를 알고싶은 선수 이름을 입력하세요.L. Messi\n"
     ]
    },
    {
     "data": {
      "image/png": "[encoded data removed]",
      "text/plain": [
       "<Figure size 2160x2160 with 1 Axes>"
      ]
     },
     "metadata": {
      "needs_background": "light"
     },
     "output_type": "display_data"
    }
   ],
   "source": [
    "# 구단가치 순위 알고싶은 선수 이름 입력받기\n",
    "try :\n",
    "    Name = input(\"구단가치 순위를 알고싶은 선수 이름을 입력하세요.\")\n",
    "    assert Name in Top10_Name\n",
    "# Top10내 선수가 아니라면 \n",
    "except : \n",
    "    print(\"Top10 내의 선수 이름을 입력하세요.\")\n",
    "    raise\n",
    "\n",
    "# 상위 20개의 구단만 추출\n",
    "groupby_Club_Top20 = groupby_club[0:20]\n",
    "\n",
    "# 입력한 선수의 구단 red 색상 설정\n",
    "colors = []\n",
    "for club in groupby_Club_Top20.index:\n",
    "    if Top10[Top10[\"Name\"]==Name][\"Club\"].values == club:\n",
    "        colors.append('red')\n",
    "    else:\n",
    "        colors.append('gray')\n",
    "#print(colors) # 색상 확인\n",
    "\n",
    "# barchart 그리기\n",
    "fig, axes = plt.subplots(figsize = (30,30))\n",
    "axes.bar(groupby_Club_Top20.index, groupby_Club_Top20.values, color = colors)\n",
    "\n",
    "plt.xticks(rotation=270, size=20)\n",
    "plt.title(\"구단가치 순위별 그래프\", size=30)\n",
    "plt.xlabel(\"구단이름\", size=20)\n",
    "plt.ylabel(\"구단가치\", size=20)\n",
    "plt.show()"
   ]
  },
  {
   "cell_type": "markdown",
   "metadata": {},
   "source": [
    "----"
   ]
  }
 ],
 "metadata": {
  "kernelspec": {
   "display_name": "Python 3",
   "language": "python",
   "name": "python3"
  },
  "language_info": {
   "codemirror_mode": {
    "name": "ipython",
    "version": 3
   },
   "file_extension": ".py",
   "mimetype": "text/x-python",
   "name": "python",
   "nbconvert_exporter": "python",
   "pygments_lexer": "ipython3",
   "version": "3.8.5"
  }
 },
 "nbformat": 4,
 "nbformat_minor": 4
}
